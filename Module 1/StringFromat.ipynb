{
 "cells": [
  {
   "cell_type": "markdown",
   "metadata": {},
   "source": [
    "# Format String in Python"
   ]
  },
  {
   "cell_type": "markdown",
   "metadata": {},
   "source": [
    "**String Interpolation (f-string):**\n",
    "\n",
    "\"f-string\" is a new way to format string in python. They are prefixed with 'f' and use curly braces {} to enclose the variables that will be formatted"
   ]
  },
  {
   "cell_type": "code",
   "execution_count": 1,
   "metadata": {},
   "outputs": [
    {
     "name": "stdout",
     "output_type": "stream",
     "text": [
      "My name is Jhon and i am 30 years old.\n"
     ]
    }
   ],
   "source": [
    "name = \"Jhon\"\n",
    "age = 30\n",
    "\n",
    "print(f\"My name is {name} and i am {age} years old.\")"
   ]
  },
  {
   "cell_type": "markdown",
   "metadata": {},
   "source": [
    "**str.format()**\n",
    "\n",
    "This is an another way to format string in python. Its use curly braces {} as placeholder for variables which are passed as argument in the format() method"
   ]
  },
  {
   "cell_type": "code",
   "execution_count": 2,
   "metadata": {},
   "outputs": [
    {
     "name": "stdout",
     "output_type": "stream",
     "text": [
      "My name is Jhon and I am 30 years old.\n"
     ]
    }
   ],
   "source": [
    "name = \"Jhon\"\n",
    "age = 30\n",
    "\n",
    "print(\"My name is {} and I am {} years old.\".format(name, age))"
   ]
  },
  {
   "cell_type": "markdown",
   "metadata": {},
   "source": [
    "**% Operator**\n",
    "\n",
    "This is one of the oldest ways to format strings in Python. It uses the % operator to replace variables in the string.\n",
    "- %s: This is a placeholder for a string.\n",
    "- %d: This is a placeholder for an integer"
   ]
  },
  {
   "cell_type": "code",
   "execution_count": 3,
   "metadata": {},
   "outputs": [
    {
     "name": "stdout",
     "output_type": "stream",
     "text": [
      "My name is Jonathan and i am 30 years old\n"
     ]
    }
   ],
   "source": [
    "name =\"Jonathan\"\n",
    "age = 30\n",
    "\n",
    "print(\"My name is %s and i am %d years old\" % (name, age))"
   ]
  },
  {
   "cell_type": "markdown",
   "metadata": {},
   "source": [
    "**Addtional Capabilities**\n",
    "\n",
    "f-strings are also able to evaluate expressions inside the curly braces, which can be very handy."
   ]
  },
  {
   "cell_type": "code",
   "execution_count": 4,
   "metadata": {},
   "outputs": [
    {
     "name": "stdout",
     "output_type": "stream",
     "text": [
      " the suym of x and y is 30\n"
     ]
    }
   ],
   "source": [
    "x = 10\n",
    "y= 20\n",
    "\n",
    "print(f\" the suym of x and y is {x + y}\")"
   ]
  },
  {
   "cell_type": "markdown",
   "metadata": {},
   "source": [
    "**Raw string**\n",
    "\n",
    "raw strings are a powerful tool for handling textual data, especially when dealing with escape characters. By prefixing a string literal with the letter ‘r’, Python treats the string as raw, meaning it interprets backslashes as literal characters rather than escape sequences"
   ]
  },
  {
   "cell_type": "code",
   "execution_count": 5,
   "metadata": {},
   "outputs": [
    {
     "name": "stdout",
     "output_type": "stream",
     "text": [
      "Regular String: C:\n",
      "ew_folder\file.txt\n"
     ]
    }
   ],
   "source": [
    "regular_string = \"C:\\new_folder\\file.txt\"\n",
    "print(\"Regular String:\", regular_string)"
   ]
  }
 ],
 "metadata": {
  "kernelspec": {
   "display_name": "Python 3",
   "language": "python",
   "name": "python3"
  },
  "language_info": {
   "codemirror_mode": {
    "name": "ipython",
    "version": 3
   },
   "file_extension": ".py",
   "mimetype": "text/x-python",
   "name": "python",
   "nbconvert_exporter": "python",
   "pygments_lexer": "ipython3",
   "version": "3.10.12"
  }
 },
 "nbformat": 4,
 "nbformat_minor": 2
}
